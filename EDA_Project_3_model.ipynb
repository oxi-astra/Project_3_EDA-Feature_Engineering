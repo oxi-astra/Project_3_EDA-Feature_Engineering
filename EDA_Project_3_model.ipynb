{
 "cells": [
  {
   "cell_type": "code",
   "execution_count": 11,
   "metadata": {},
   "outputs": [],
   "source": [
    "import pandas as pd"
   ]
  },
  {
   "cell_type": "code",
   "execution_count": 12,
   "metadata": {},
   "outputs": [
    {
     "data": {
      "text/html": [
       "<div>\n",
       "<style scoped>\n",
       "    .dataframe tbody tr th:only-of-type {\n",
       "        vertical-align: middle;\n",
       "    }\n",
       "\n",
       "    .dataframe tbody tr th {\n",
       "        vertical-align: top;\n",
       "    }\n",
       "\n",
       "    .dataframe thead th {\n",
       "        text-align: right;\n",
       "    }\n",
       "</style>\n",
       "<table border=\"1\" class=\"dataframe\">\n",
       "  <thead>\n",
       "    <tr style=\"text-align: right;\">\n",
       "      <th></th>\n",
       "      <th>average_score</th>\n",
       "      <th>total_number_of_reviews</th>\n",
       "      <th>total_number_of_reviews_reviewer_has_given</th>\n",
       "      <th>reviewer_score</th>\n",
       "      <th>month</th>\n",
       "      <th>tag_Couple</th>\n",
       "      <th>tag_Submitted_from_a_mobile_device</th>\n",
       "      <th>tag_Business_trip</th>\n",
       "      <th>tag_Standard_Double_Room</th>\n",
       "      <th>tag_Stayed_1_night</th>\n",
       "      <th>...</th>\n",
       "      <th>hotel_country_Netherlands</th>\n",
       "      <th>hotel_country_Austria</th>\n",
       "      <th>hotel_country_Spain</th>\n",
       "      <th>subjectivity</th>\n",
       "      <th>reviewer_nationality_United Kingdom</th>\n",
       "      <th>reviewer_nationality_Other</th>\n",
       "      <th>reviewer_nationality_United States of America</th>\n",
       "      <th>reviewer_nationality_Australia</th>\n",
       "      <th>No_Negative</th>\n",
       "      <th>No_Positive</th>\n",
       "    </tr>\n",
       "  </thead>\n",
       "  <tbody>\n",
       "    <tr>\n",
       "      <th>0</th>\n",
       "      <td>8.4</td>\n",
       "      <td>-0.057096</td>\n",
       "      <td>0.571429</td>\n",
       "      <td>10.0</td>\n",
       "      <td>2</td>\n",
       "      <td>True</td>\n",
       "      <td>True</td>\n",
       "      <td>False</td>\n",
       "      <td>False</td>\n",
       "      <td>False</td>\n",
       "      <td>...</td>\n",
       "      <td>0</td>\n",
       "      <td>0</td>\n",
       "      <td>0</td>\n",
       "      <td>True</td>\n",
       "      <td>1</td>\n",
       "      <td>0</td>\n",
       "      <td>0</td>\n",
       "      <td>0</td>\n",
       "      <td>False</td>\n",
       "      <td>False</td>\n",
       "    </tr>\n",
       "    <tr>\n",
       "      <th>1</th>\n",
       "      <td>8.3</td>\n",
       "      <td>-0.315253</td>\n",
       "      <td>1.571429</td>\n",
       "      <td>6.3</td>\n",
       "      <td>1</td>\n",
       "      <td>True</td>\n",
       "      <td>False</td>\n",
       "      <td>True</td>\n",
       "      <td>True</td>\n",
       "      <td>True</td>\n",
       "      <td>...</td>\n",
       "      <td>0</td>\n",
       "      <td>0</td>\n",
       "      <td>0</td>\n",
       "      <td>True</td>\n",
       "      <td>1</td>\n",
       "      <td>0</td>\n",
       "      <td>0</td>\n",
       "      <td>0</td>\n",
       "      <td>False</td>\n",
       "      <td>False</td>\n",
       "    </tr>\n",
       "    <tr>\n",
       "      <th>2</th>\n",
       "      <td>8.9</td>\n",
       "      <td>-0.704731</td>\n",
       "      <td>1.571429</td>\n",
       "      <td>7.5</td>\n",
       "      <td>10</td>\n",
       "      <td>False</td>\n",
       "      <td>True</td>\n",
       "      <td>False</td>\n",
       "      <td>False</td>\n",
       "      <td>False</td>\n",
       "      <td>...</td>\n",
       "      <td>0</td>\n",
       "      <td>0</td>\n",
       "      <td>0</td>\n",
       "      <td>False</td>\n",
       "      <td>0</td>\n",
       "      <td>1</td>\n",
       "      <td>0</td>\n",
       "      <td>0</td>\n",
       "      <td>False</td>\n",
       "      <td>True</td>\n",
       "    </tr>\n",
       "  </tbody>\n",
       "</table>\n",
       "<p>3 rows × 28 columns</p>\n",
       "</div>"
      ],
      "text/plain": [
       "   average_score  total_number_of_reviews  \\\n",
       "0            8.4                -0.057096   \n",
       "1            8.3                -0.315253   \n",
       "2            8.9                -0.704731   \n",
       "\n",
       "   total_number_of_reviews_reviewer_has_given  reviewer_score  month  \\\n",
       "0                                    0.571429            10.0      2   \n",
       "1                                    1.571429             6.3      1   \n",
       "2                                    1.571429             7.5     10   \n",
       "\n",
       "   tag_Couple  tag_Submitted_from_a_mobile_device  tag_Business_trip  \\\n",
       "0        True                                True              False   \n",
       "1        True                               False               True   \n",
       "2       False                                True              False   \n",
       "\n",
       "   tag_Standard_Double_Room  tag_Stayed_1_night  ...  \\\n",
       "0                     False               False  ...   \n",
       "1                      True                True  ...   \n",
       "2                     False               False  ...   \n",
       "\n",
       "   hotel_country_Netherlands  hotel_country_Austria  hotel_country_Spain  \\\n",
       "0                          0                      0                    0   \n",
       "1                          0                      0                    0   \n",
       "2                          0                      0                    0   \n",
       "\n",
       "   subjectivity  reviewer_nationality_United Kingdom  \\\n",
       "0          True                                    1   \n",
       "1          True                                    1   \n",
       "2         False                                    0   \n",
       "\n",
       "   reviewer_nationality_Other  reviewer_nationality_United States of America  \\\n",
       "0                           0                                              0   \n",
       "1                           0                                              0   \n",
       "2                           1                                              0   \n",
       "\n",
       "   reviewer_nationality_Australia  No_Negative  No_Positive  \n",
       "0                               0        False        False  \n",
       "1                               0        False        False  \n",
       "2                               0        False         True  \n",
       "\n",
       "[3 rows x 28 columns]"
      ]
     },
     "execution_count": 12,
     "metadata": {},
     "output_type": "execute_result"
    }
   ],
   "source": [
    "# hotels = pd.read_csv('hotels.csv')\n",
    "\n",
    "hotels = pd.read_csv('hotels_new.csv')\n",
    "\n",
    "hotels.head(3)"
   ]
  },
  {
   "cell_type": "code",
   "execution_count": 13,
   "metadata": {},
   "outputs": [],
   "source": [
    "# hotels.drop(axis=1, columns=['hotel_address', 'review_date', 'hotel_name', \\\n",
    "#    'reviewer_nationality', 'negative_review', 'positive_review', \\\n",
    "#        'tags', 'days_since_review'], inplace=True)"
   ]
  },
  {
   "cell_type": "code",
   "execution_count": 14,
   "metadata": {},
   "outputs": [],
   "source": [
    "# hotels.fillna(0,inplace=True)"
   ]
  },
  {
   "cell_type": "code",
   "execution_count": 15,
   "metadata": {},
   "outputs": [],
   "source": [
    "# Разбиваем датафрейм на части, необходимые для обучения и тестирования модели  \n",
    "# Х - данные с информацией об отелях, у - целевая переменная (рейтинги отелей)  \n",
    "X = hotels.drop(['reviewer_score'], axis = 1)  \n",
    "y = hotels['reviewer_score'] "
   ]
  },
  {
   "cell_type": "code",
   "execution_count": 16,
   "metadata": {},
   "outputs": [],
   "source": [
    "# Загружаем специальный инструмент для разбивки:  \n",
    "from sklearn.model_selection import train_test_split  "
   ]
  },
  {
   "cell_type": "code",
   "execution_count": 17,
   "metadata": {},
   "outputs": [],
   "source": [
    "# Наборы данных с меткой \"train\" будут использоваться для обучения модели, \"test\" - для тестирования.  \n",
    "# Для тестирования мы будем использовать 25% от исходного датасета.  \n",
    "X_train, X_test, y_train, y_test = train_test_split(X, y, test_size=0.25, random_state=42)"
   ]
  },
  {
   "cell_type": "code",
   "execution_count": 18,
   "metadata": {},
   "outputs": [],
   "source": [
    "# Импортируем необходимые библиотеки:  \n",
    "from sklearn.ensemble import RandomForestRegressor # инструмент для создания и обучения модели  \n",
    "from sklearn import metrics # инструменты для оценки точности модели  \n",
    "  \n",
    "# Создаём модель  \n",
    "regr = RandomForestRegressor(n_estimators=100)  \n",
    "      \n",
    "# Обучаем модель на тестовом наборе данных  \n",
    "regr.fit(X_train, y_train)  \n",
    "      \n",
    "# Используем обученную модель для предсказания рейтинга отелей в тестовой выборке.  \n",
    "# Предсказанные значения записываем в переменную y_pred  \n",
    "y_pred = regr.predict(X_test)  \n"
   ]
  },
  {
   "cell_type": "code",
   "execution_count": 19,
   "metadata": {},
   "outputs": [
    {
     "name": "stdout",
     "output_type": "stream",
     "text": [
      "MAPE: 0.16100001937816935\n"
     ]
    }
   ],
   "source": [
    "# Сравниваем предсказанные значения (y_pred) с реальными (y_test), и смотрим насколько они отличаются  \n",
    "# Метрика называется Mean Absolute Percentage Error (MAPE) и показывает среднюю абсолютную процентную ошибку предсказанных значений от фактических.  \n",
    "print('MAPE:', metrics.mean_absolute_percentage_error(y_test, y_pred))"
   ]
  },
  {
   "cell_type": "markdown",
   "metadata": {},
   "source": [
    "1 MAPE: 0.1413364989016283\n",
    "\n",
    "2 MAPE: 0.13434831921902826\n",
    "\n",
    "3 MAPE: 0.13324687641304117\n",
    "\n",
    "4 MAPE: 0.13364068838984453\n",
    "\n",
    "5 MAPE: 0.13314658276790986\n",
    "\n",
    "6 MAPE: 0.1321199161523903\n",
    "\n",
    "7 MAPE: 0.16100001937816935\n",
    "\n",
    "так отразились изменения в review, на kaggle они не попадут"
   ]
  },
  {
   "cell_type": "markdown",
   "metadata": {},
   "source": [
    "Небольшой бонус:\n"
   ]
  },
  {
   "cell_type": "code",
   "execution_count": 20,
   "metadata": {},
   "outputs": [],
   "source": [
    "# # убираем признаки которые еще не успели обработать, \n",
    "# # модель на признаках с dtypes \"object\" обучаться не будет, просто выберим их и удалим\n",
    "# object_columns = [s for s in hotels.columns if hotels[s].dtypes == 'object']\n",
    "# hotels.drop(object_columns, axis = 1, inplace=True)\n",
    "\n",
    "# # заполняем пропуски самым простым способом\n",
    "# hotels = hotels.fillna(0)"
   ]
  }
 ],
 "metadata": {
  "kernelspec": {
   "display_name": "Python 3",
   "language": "python",
   "name": "python3"
  },
  "language_info": {
   "codemirror_mode": {
    "name": "ipython",
    "version": 3
   },
   "file_extension": ".py",
   "mimetype": "text/x-python",
   "name": "python",
   "nbconvert_exporter": "python",
   "pygments_lexer": "ipython3",
   "version": "3.11.5"
  }
 },
 "nbformat": 4,
 "nbformat_minor": 2
}
